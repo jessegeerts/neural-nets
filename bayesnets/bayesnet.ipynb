{
 "cells": [
  {
   "cell_type": "markdown",
   "metadata": {},
   "source": [
    "# Bayesian neural network"
   ]
  },
  {
   "cell_type": "code",
   "execution_count": 22,
   "metadata": {},
   "outputs": [
    {
     "ename": "ImportError",
     "evalue": "No module named 'keras'",
     "output_type": "error",
     "traceback": [
      "\u001b[1;31m---------------------------------------------------------------------------\u001b[0m",
      "\u001b[1;31mImportError\u001b[0m                               Traceback (most recent call last)",
      "\u001b[1;32m<ipython-input-22-316db3f4698f>\u001b[0m in \u001b[0;36m<module>\u001b[1;34m()\u001b[0m\n\u001b[0;32m      8\u001b[0m \u001b[1;32mimport\u001b[0m \u001b[0mpickle\u001b[0m\u001b[1;33m\u001b[0m\u001b[0m\n\u001b[0;32m      9\u001b[0m \u001b[1;33m\u001b[0m\u001b[0m\n\u001b[1;32m---> 10\u001b[1;33m \u001b[1;32mfrom\u001b[0m \u001b[0mkeras\u001b[0m\u001b[1;33m.\u001b[0m\u001b[0mutils\u001b[0m \u001b[1;32mimport\u001b[0m \u001b[0mto_categorical\u001b[0m\u001b[1;33m\u001b[0m\u001b[0m\n\u001b[0m",
      "\u001b[1;31mImportError\u001b[0m: No module named 'keras'"
     ]
    }
   ],
   "source": [
    "import numpy as np\n",
    "import tensorflow as tf\n",
    "import edward as ed\n",
    "import matplotlib.pyplot as plt\n",
    "%matplotlib inline\n",
    "import sys\n",
    "import gzip\n",
    "import pickle\n",
    "\n",
    "from keras.utils import to_categorical"
   ]
  },
  {
   "cell_type": "code",
   "execution_count": 15,
   "metadata": {
    "collapsed": true
   },
   "outputs": [],
   "source": [
    "from edward.models import Normal"
   ]
  },
  {
   "cell_type": "code",
   "execution_count": 21,
   "metadata": {},
   "outputs": [
    {
     "data": {
      "image/png": "[encoded data removed]",
      "text/plain": [
       "<matplotlib.figure.Figure at 0x20580164240>"
      ]
     },
     "metadata": {},
     "output_type": "display_data"
    }
   ],
   "source": [
    "# DATA\n",
    "def load_mnist():\n",
    "    \"\"\"\n",
    "    Loads the MNIST handwritten digits dataset into three tuples training_data/\n",
    "\n",
    "    :return: Three tuples containing training data, validation data and test data\n",
    "    \"\"\"\n",
    "    f = gzip.open(r'C:\\Code\\neural-nets\\data\\mnist.pkl.gz')\n",
    "    training_data, validation_data, test_data = pickle.load(f, encoding='latin1')\n",
    "    f.close()\n",
    "    return training_data, validation_data, test_data\n",
    "\n",
    "training_data, validation_data, test_data = load_mnist()\n",
    "\n",
    "def show_grid_of_digits(data,nc,nr):\n",
    "    for i in range(nc*nr):\n",
    "        plt.subplot(nc,nr,i+1)\n",
    "        im = data[0][i].reshape(28,28)\n",
    "        plt.imshow(im,cmap='gray')\n",
    "        plt.gca().axes.get_xaxis().set_visible(False)\n",
    "        plt.gca().axes.get_yaxis().set_visible(False)\n",
    "        \n",
    "show_grid_of_digits(training_data,3,5)"
   ]
  },
  {
   "cell_type": "code",
   "execution_count": 45,
   "metadata": {},
   "outputs": [],
   "source": [
    "def multilayer_perceptron(x, weights, biases):\n",
    "    \"\"\"\n",
    "    This function takes in the input placeholder, weights and biases and returns the output tensor of a network with\n",
    "    two hidden ReLU layers, and an output layer with linear activation.\n",
    "\n",
    "    :param tf.placeholder x: Placeholder for input\n",
    "    :param dict weights: Dictionary containing Variables describing weights of each layer\n",
    "    :param dict biases: Dictionary containing Variables describing biases of each layer\n",
    "    :return: The activations of the output layer\n",
    "    \"\"\"\n",
    "    # Hidden layer with RELU activation\n",
    "    layer_1 = tf.add(tf.matmul(x, weights['h1']), biases['b1'])\n",
    "    layer_1 = tf.nn.relu(layer_1)\n",
    "    # Hidden layer with RELU activation\n",
    "    layer_2 = tf.add(tf.matmul(layer_1, weights['h2']), biases['b2'])\n",
    "    layer_2 = tf.nn.relu(layer_2)\n",
    "    # Output layer with linear activation\n",
    "    out_layer = tf.matmul(layer_2, weights['out']) + biases['out']\n",
    "    return out_layer\n",
    "\n",
    "n_input = 28**2\n",
    "n_hidden_1 = 10\n",
    "n_hidden_2 = 10\n",
    "n_classes = 10\n",
    "\n",
    "batch_size = 20\n",
    "\n",
    "# Priors on layers weight & bias\n",
    "weights = {\n",
    "    'h1': Normal(loc=tf.zeros([n_input, n_hidden_1]), scale=tf.ones([n_input, n_hidden_1])), \n",
    "    'h2': Normal(loc=tf.zeros([n_hidden_1, n_hidden_2]), scale=tf.ones([n_hidden_1, n_hidden_2])),\n",
    "    'out': Normal(loc=tf.zeros([n_hidden_2, n_classes]), scale=tf.ones([n_hidden_2, n_classes]))\n",
    "}\n",
    "biases = {\n",
    "    'b1': Normal(loc=tf.zeros(n_hidden_1), scale=tf.ones(n_hidden_1)),# tf.Variable(tf.random_normal([n_hidden_1])),\n",
    "    'b2': Normal(loc=tf.zeros(n_hidden_2), scale=tf.ones(n_hidden_2)),#tf.Variable(tf.random_normal([n_hidden_2])),\n",
    "    'out': Normal(loc=tf.zeros(n_classes), scale=tf.ones(n_classes))#tf.Variable(tf.random_normal([n_classes]))\n",
    "}\n",
    "\n",
    "x = tf.placeholder(tf.float32, [batch_size, n_input])\n",
    "y = Normal(loc=multilayer_perceptron(x, weights, biases),scale=tf.ones(n_classes) * 0.1)  # constant noise"
   ]
  },
  {
   "cell_type": "code",
   "execution_count": 46,
   "metadata": {},
   "outputs": [],
   "source": [
    "# BACKWARD MODEL \n",
    "\n",
    "q_weights = {\n",
    "    'h1':  Normal(loc=tf.Variable(tf.random_normal([n_input, n_hidden_1])),\n",
    "               scale=tf.nn.softplus(tf.Variable(tf.random_normal([n_input, n_hidden_1])))), \n",
    "    'h2': Normal(loc=tf.Variable(tf.random_normal([n_hidden_1, n_hidden_2])),\n",
    "               scale=tf.nn.softplus(tf.Variable(tf.random_normal([n_hidden_1, n_hidden_2])))),\n",
    "    'out': Normal(loc=tf.Variable(tf.random_normal([n_hidden_2, n_classes])),\n",
    "               scale=tf.nn.softplus(tf.Variable(tf.random_normal([n_hidden_2, n_classes]))))\n",
    "}\n",
    "q_biases = {\n",
    "    'b1': Normal(loc=tf.Variable(tf.random_normal([n_hidden_1])),\n",
    "               scale=tf.nn.softplus(tf.Variable(tf.random_normal([n_hidden_1])))),\n",
    "    'b2': Normal(loc=tf.Variable(tf.random_normal([n_hidden_2])),\n",
    "               scale=tf.nn.softplus(tf.Variable(tf.random_normal([n_hidden_2])))),\n",
    "    'out': Normal(loc=tf.Variable(tf.random_normal([n_classes])),\n",
    "               scale=tf.nn.softplus(tf.Variable(tf.random_normal([n_classes]))))\n",
    "}\n",
    "\n"
   ]
  },
  {
   "cell_type": "code",
   "execution_count": 53,
   "metadata": {},
   "outputs": [],
   "source": [
    "batch_x = training_data[0][:20]\n",
    "batch_y = to_categorical(training_data[1][:20])"
   ]
  },
  {
   "cell_type": "code",
   "execution_count": 54,
   "metadata": {},
   "outputs": [
    {
     "name": "stdout",
     "output_type": "stream",
     "text": [
      "25000/25000 [100%] ██████████████████████████████ Elapsed: 442s | Loss: 5028.379\n"
     ]
    }
   ],
   "source": [
    "# INFERENCE \n",
    "# this will take a couple of minutes\n",
    "\n",
    "latent_vars = {weights['h1']: q_weights['h1'], biases['b1']: q_biases['b1'],\n",
    "              weights['h2']: q_weights['h2'], biases['b2']: q_biases['b2'],\n",
    "              weights['out']: q_weights['out'], biases['out']: q_biases['out']}\n",
    "\n",
    "inference = ed.KLqp(latent_vars=latent_vars, \n",
    "                    data={x: batch_x, y:batch_y})\n",
    "\n",
    "inference.run(n_samples=10, n_iter=25000)"
   ]
  },
  {
   "cell_type": "code",
   "execution_count": 56,
   "metadata": {},
   "outputs": [
    {
     "data": {
      "text/plain": [
       "array([[ 0.,  0.,  0.,  0.,  0.,  1.,  0.,  0.,  0.,  0.],\n",
       "       [ 1.,  0.,  0.,  0.,  0.,  0.,  0.,  0.,  0.,  0.],\n",
       "       [ 0.,  0.,  0.,  0.,  1.,  0.,  0.,  0.,  0.,  0.],\n",
       "       [ 0.,  1.,  0.,  0.,  0.,  0.,  0.,  0.,  0.,  0.],\n",
       "       [ 0.,  0.,  0.,  0.,  0.,  0.,  0.,  0.,  0.,  1.],\n",
       "       [ 0.,  0.,  1.,  0.,  0.,  0.,  0.,  0.,  0.,  0.],\n",
       "       [ 0.,  1.,  0.,  0.,  0.,  0.,  0.,  0.,  0.,  0.],\n",
       "       [ 0.,  0.,  0.,  1.,  0.,  0.,  0.,  0.,  0.,  0.],\n",
       "       [ 0.,  1.,  0.,  0.,  0.,  0.,  0.,  0.,  0.,  0.],\n",
       "       [ 0.,  0.,  0.,  0.,  1.,  0.,  0.,  0.,  0.,  0.],\n",
       "       [ 0.,  0.,  0.,  1.,  0.,  0.,  0.,  0.,  0.,  0.],\n",
       "       [ 0.,  0.,  0.,  0.,  0.,  1.,  0.,  0.,  0.,  0.],\n",
       "       [ 0.,  0.,  0.,  1.,  0.,  0.,  0.,  0.,  0.,  0.],\n",
       "       [ 0.,  0.,  0.,  0.,  0.,  0.,  1.,  0.,  0.,  0.],\n",
       "       [ 0.,  1.,  0.,  0.,  0.,  0.,  0.,  0.,  0.,  0.],\n",
       "       [ 0.,  0.,  0.,  0.,  0.,  0.,  0.,  1.,  0.,  0.],\n",
       "       [ 0.,  0.,  1.,  0.,  0.,  0.,  0.,  0.,  0.,  0.],\n",
       "       [ 0.,  0.,  0.,  0.,  0.,  0.,  0.,  0.,  1.,  0.],\n",
       "       [ 0.,  0.,  0.,  0.,  0.,  0.,  1.,  0.,  0.,  0.],\n",
       "       [ 0.,  0.,  0.,  0.,  0.,  0.,  0.,  0.,  0.,  1.]])"
      ]
     },
     "execution_count": 56,
     "metadata": {},
     "output_type": "execute_result"
    }
   ],
   "source": [
    "batch_y"
   ]
  },
  {
   "cell_type": "code",
   "execution_count": null,
   "metadata": {},
   "outputs": [],
   "source": []
  },
  {
   "cell_type": "code",
   "execution_count": 50,
   "metadata": {},
   "outputs": [
    {
     "data": {
      "text/plain": [
       "array([5, 0, 4, 1, 9, 2, 1, 3, 1, 4, 3, 5, 3, 6, 1, 7, 2, 8, 6, 9], dtype=int64)"
      ]
     },
     "execution_count": 50,
     "metadata": {},
     "output_type": "execute_result"
    }
   ],
   "source": [
    "batch_y"
   ]
  },
  {
   "cell_type": "code",
   "execution_count": 55,
   "metadata": {
    "collapsed": true
   },
   "outputs": [],
   "source": [
    "from edward.models import Categorical"
   ]
  },
  {
   "cell_type": "code",
   "execution_count": null,
   "metadata": {
    "collapsed": true
   },
   "outputs": [],
   "source": []
  }
 ],
 "metadata": {
  "kernelspec": {
   "display_name": "Python 3",
   "language": "python",
   "name": "python3"
  },
  "language_info": {
   "codemirror_mode": {
    "name": "ipython",
    "version": 3
   },
   "file_extension": ".py",
   "mimetype": "text/x-python",
   "name": "python",
   "nbconvert_exporter": "python",
   "pygments_lexer": "ipython3",
   "version": "3.5.3"
  }
 },
 "nbformat": 4,
 "nbformat_minor": 2
}
